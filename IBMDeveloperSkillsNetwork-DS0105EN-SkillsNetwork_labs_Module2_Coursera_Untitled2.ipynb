{
  "metadata": {
    "language_info": {
      "codemirror_mode": {
        "name": "python",
        "version": 3
      },
      "file_extension": ".py",
      "mimetype": "text/x-python",
      "name": "python",
      "nbconvert_exporter": "python",
      "pygments_lexer": "ipython3",
      "version": "3.8"
    },
    "kernelspec": {
      "name": "python",
      "display_name": "Pyolite",
      "language": "python"
    }
  },
  "nbformat_minor": 4,
  "nbformat": 4,
  "cells": [
    {
      "cell_type": "markdown",
      "source": "# My Jupyter Notebook on IBM Watson Studio",
      "metadata": {}
    },
    {
      "cell_type": "markdown",
      "source": "__Thinh Hoang__\n\nStudent",
      "metadata": {}
    },
    {
      "cell_type": "markdown",
      "source": "_I am interested in data science because it is very important in business and it helps solve the problem that the company is having_",
      "metadata": {}
    },
    {
      "cell_type": "markdown",
      "source": "### The code will display the word hello world when im using the command print ###",
      "metadata": {}
    },
    {
      "cell_type": "code",
      "source": "print(\"hello world\")",
      "metadata": {
        "tags": []
      },
      "execution_count": null,
      "outputs": []
    },
    {
      "cell_type": "markdown",
      "source": "Shopping list\n1. Milk\n2. Eggs\n3. Carrots\n\n![My shopping list](https://stopfoodwaste.ie/wp-content/uploads/2017/09/shopping-list.jpg)\n\n| Steven | Tim | Helen  | \n| ------ | --- | ------ |  \n| 5 Eggs   | 1 Milk Carton | 3 Carrots | \n\n\n",
      "metadata": {}
    },
    {
      "cell_type": "code",
      "source": "",
      "metadata": {},
      "execution_count": null,
      "outputs": []
    }
  ]
}